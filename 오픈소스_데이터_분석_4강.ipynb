{
  "nbformat": 4,
  "nbformat_minor": 0,
  "metadata": {
    "colab": {
      "provenance": [],
      "include_colab_link": true
    },
    "kernelspec": {
      "name": "python3",
      "display_name": "Python 3"
    },
    "language_info": {
      "name": "python"
    }
  },
  "cells": [
    {
      "cell_type": "markdown",
      "metadata": {
        "id": "view-in-github",
        "colab_type": "text"
      },
      "source": [
        "<a href=\"https://colab.research.google.com/github/geelmens/Data-Analysis-with-Open-Source/blob/main/%EC%98%A4%ED%94%88%EC%86%8C%EC%8A%A4_%EB%8D%B0%EC%9D%B4%ED%84%B0_%EB%B6%84%EC%84%9D_4%EA%B0%95.ipynb\" target=\"_parent\"><img src=\"https://colab.research.google.com/assets/colab-badge.svg\" alt=\"Open In Colab\"/></a>"
      ]
    },
    {
      "cell_type": "markdown",
      "source": [
        "\n",
        "\n",
        "# 오픈소스 기반 데이터 분석 4강 - 데이터 수집\n"
      ],
      "metadata": {
        "id": "DkPKaAsoRq5Q"
      }
    },
    {
      "cell_type": "markdown",
      "source": [
        "## 4-1 CSV 파일 읽기"
      ],
      "metadata": {
        "id": "-I7BVVlnRrB0"
      }
    },
    {
      "cell_type": "code",
      "source": [
        "import pandas as pd\n",
        "\n",
        "## data.csv 파일 읽기\n",
        "df = pd.read_csv('data.csv', encoding= 'utf_8')\n",
        "print(df)"
      ],
      "metadata": {
        "id": "2Y2HEiaiRwAI",
        "colab": {
          "base_uri": "https://localhost:8080/"
        },
        "outputId": "4a9676c9-ef06-42b7-e8f2-3a9ef8484894"
      },
      "execution_count": 4,
      "outputs": [
        {
          "output_type": "stream",
          "name": "stdout",
          "text": [
            "           날짜    체중  골격근량  체지방량\n",
            "0  2025.02.06  64.7  30.0  11.1\n",
            "1  2025.02.04  64.0  29.3  11.6\n"
          ]
        }
      ]
    },
    {
      "cell_type": "markdown",
      "source": [
        "## 4-2 JSON 파일 읽기\n",
        "\n"
      ],
      "metadata": {
        "id": "9kHCFaGlRrE0"
      }
    },
    {
      "cell_type": "code",
      "source": [
        "import json\n",
        "import pandas as pd\n",
        "\n",
        "## data.json 파일 출력\n",
        "with open('data.json', mode='r', encoding = 'utf-8') as f:\n",
        "    data = json.load(f)\n",
        "\n",
        "print(data)\n",
        "## data.json 파일 DataFrame 읽기\n",
        "df = pd.read_json('data.json', orient='records',encoding='utf_8',lines=False)\n",
        "print(df)"
      ],
      "metadata": {
        "id": "IO8bsKekR0W_",
        "colab": {
          "base_uri": "https://localhost:8080/"
        },
        "outputId": "fd159087-cc87-456a-e332-93311c7a2030"
      },
      "execution_count": 9,
      "outputs": [
        {
          "output_type": "stream",
          "name": "stdout",
          "text": [
            "{'매출데이터': [{'월': '2025-01', '매출액': 1000000, '비용': 700000, '이익': 300000}, {'월': '2025-02', '매출액': 1200000, '비용': 800000, '이익': 400000}, {'월': '2025-03', '매출액': 1500000, '비용': 900000, '이익': 600000}]}\n",
            "                                               매출데이터\n",
            "0  {'월': '2025-01', '매출액': 1000000, '비용': 700000,...\n",
            "1  {'월': '2025-02', '매출액': 1200000, '비용': 800000,...\n",
            "2  {'월': '2025-03', '매출액': 1500000, '비용': 900000,...\n"
          ]
        }
      ]
    },
    {
      "cell_type": "markdown",
      "source": [
        "## 4-3 텍스트 파일 읽기 및 데이터 추출"
      ],
      "metadata": {
        "id": "uLd_3A_IRrHG"
      }
    },
    {
      "cell_type": "code",
      "source": [
        "import re\n",
        "\n",
        "## 파일(callcenter20250301.log) 오픈 및 읽기\n",
        "with open('callcenter20250301.log', 'r', encoding='utf-8') as f:\n",
        "    content = f.read()\n",
        "## 주민등록번호 패턴 생성\n",
        "pattern = re.compile(r'(\\d{6})-(\\d{7})')\n",
        "\n",
        "## 주민등록번호 마스킹\n",
        "masked_content = pattern.sub(r'\\1-*******',content)\n",
        "\n",
        "## 마스킹된 파일(callcenter20250301_masked.log) 오픈 및 쓰기\n",
        "with open('callcenter20250301_masked.log', mode = 'w') as f:\n",
        "    f.write(masked_content)\n",
        "\n",
        "print(\"주민등록번호 마스킹 완료. 'callcenter20250301_masked.log.txt' 파일로 저장되었습니다.\")"
      ],
      "metadata": {
        "id": "60qOf7uxVdAg",
        "colab": {
          "base_uri": "https://localhost:8080/"
        },
        "outputId": "48df1ae6-0f85-409e-ee14-9e0596d3da10"
      },
      "execution_count": 10,
      "outputs": [
        {
          "output_type": "stream",
          "name": "stdout",
          "text": [
            "주민등록번호 마스킹 완료. 'callcenter20250301_masked.log.txt' 파일로 저장되었습니다.\n"
          ]
        }
      ]
    },
    {
      "cell_type": "markdown",
      "source": [
        "## 4-4 Open-Meteo의 무료 날씨 API를 통한 특정 지역 온도 조회"
      ],
      "metadata": {
        "id": "eOMufu5SXiAU"
      }
    },
    {
      "cell_type": "code",
      "source": [
        "import requests\n",
        "import json\n",
        "\n",
        "url = \"https://api.open-meteo.com/v1/forecast?=&=&current=temperature_2m\"\n",
        "params = {\n",
        "    \"latitude\": \"37.58638333\",\n",
        "    \"longitude\": \"127.0203333\",\n",
        "    \"current\": \"temperature_2m\"\n",
        "}\n",
        "\n",
        "try:\n",
        "    ## URL 및 파라미터 전송\n",
        "    response = requests.get(url,params=params)\n",
        "    response.raise_for_status()\n",
        "\n",
        "    ## JSON 데이터 읽기\n",
        "    data = response.json()\n",
        "\n",
        "    print(\"API 응답:\", data)\n",
        "    print(\"서울시 종로구의 현재 온도는 : {0}{1} 입니다.\".format(data['current']['temperature_2m'], data['current_units']['temperature_2m']))\n",
        "\n",
        "except requests.exceptions.RequestException as e:\n",
        "    print(f\"API 호출 실패: {e}\")\n",
        "except json.JSONDecodeError as e:\n",
        "    print(f\"JSON 파싱 실패: {e}\")"
      ],
      "metadata": {
        "id": "JpmgdsW9V0CY",
        "colab": {
          "base_uri": "https://localhost:8080/"
        },
        "outputId": "c2a58109-bbf1-4dbd-c65a-27482c84c96c"
      },
      "execution_count": 11,
      "outputs": [
        {
          "output_type": "stream",
          "name": "stdout",
          "text": [
            "API 응답: {'latitude': 37.6, 'longitude': 127.0, 'generationtime_ms': 0.030875205993652344, 'utc_offset_seconds': 0, 'timezone': 'GMT', 'timezone_abbreviation': 'GMT', 'elevation': 29.0, 'current_units': {'time': 'iso8601', 'interval': 'seconds', 'temperature_2m': '°C'}, 'current': {'time': '2025-10-15T11:45', 'interval': 900, 'temperature_2m': 17.8}}\n",
            "서울시 종로구의 현재 온도는 : 17.8°C 입니다.\n"
          ]
        }
      ]
    },
    {
      "cell_type": "markdown",
      "source": [
        "## 4-5 Selenium과 lxml을 이용한 웹 스크래핑"
      ],
      "metadata": {
        "id": "RLfPaa1ZiqIC"
      }
    },
    {
      "cell_type": "code",
      "source": [
        "!curl -o google-chrome-stable_current_amd64.deb https://dl.google.com/linux/direct/google-chrome-stable_current_amd64.deb\n",
        "!apt install ./google-chrome-stable_current_amd64.deb -y\n",
        "!pip install selenium webdriver_manager"
      ],
      "metadata": {
        "id": "79dmM7MNk8pB",
        "colab": {
          "base_uri": "https://localhost:8080/"
        },
        "outputId": "ba1a3739-be0d-4599-e2ca-820262d788d2"
      },
      "execution_count": 12,
      "outputs": [
        {
          "output_type": "stream",
          "name": "stdout",
          "text": [
            "  % Total    % Received % Xferd  Average Speed   Time    Time     Time  Current\n",
            "                                 Dload  Upload   Total   Spent    Left  Speed\n",
            "100  114M  100  114M    0     0   180M      0 --:--:-- --:--:-- --:--:--  180M\n",
            "Reading package lists... Done\n",
            "Building dependency tree... Done\n",
            "Reading state information... Done\n",
            "Note, selecting 'google-chrome-stable' instead of './google-chrome-stable_current_amd64.deb'\n",
            "The following additional packages will be installed:\n",
            "  libvulkan1 mesa-vulkan-drivers\n",
            "The following NEW packages will be installed:\n",
            "  google-chrome-stable libvulkan1 mesa-vulkan-drivers\n",
            "0 upgraded, 3 newly installed, 0 to remove and 38 not upgraded.\n",
            "Need to get 10.9 MB/131 MB of archives.\n",
            "After this operation, 448 MB of additional disk space will be used.\n",
            "Get:1 http://archive.ubuntu.com/ubuntu jammy/main amd64 libvulkan1 amd64 1.3.204.1-2 [128 kB]\n",
            "Get:2 /content/google-chrome-stable_current_amd64.deb google-chrome-stable amd64 141.0.7390.107-1 [121 MB]\n",
            "Get:3 http://archive.ubuntu.com/ubuntu jammy-updates/main amd64 mesa-vulkan-drivers amd64 23.2.1-1ubuntu3.1~22.04.3 [10.7 MB]\n",
            "Fetched 10.9 MB in 4s (2,782 kB/s)\n",
            "Selecting previously unselected package libvulkan1:amd64.\n",
            "(Reading database ... 126675 files and directories currently installed.)\n",
            "Preparing to unpack .../libvulkan1_1.3.204.1-2_amd64.deb ...\n",
            "Unpacking libvulkan1:amd64 (1.3.204.1-2) ...\n",
            "Selecting previously unselected package google-chrome-stable.\n",
            "Preparing to unpack .../google-chrome-stable_current_amd64.deb ...\n",
            "Unpacking google-chrome-stable (141.0.7390.107-1) ...\n",
            "Selecting previously unselected package mesa-vulkan-drivers:amd64.\n",
            "Preparing to unpack .../mesa-vulkan-drivers_23.2.1-1ubuntu3.1~22.04.3_amd64.deb ...\n",
            "Unpacking mesa-vulkan-drivers:amd64 (23.2.1-1ubuntu3.1~22.04.3) ...\n",
            "Setting up libvulkan1:amd64 (1.3.204.1-2) ...\n",
            "Setting up mesa-vulkan-drivers:amd64 (23.2.1-1ubuntu3.1~22.04.3) ...\n",
            "Setting up google-chrome-stable (141.0.7390.107-1) ...\n",
            "update-alternatives: using /usr/bin/google-chrome-stable to provide /usr/bin/x-www-browser (x-www-browser) in auto mode\n",
            "update-alternatives: using /usr/bin/google-chrome-stable to provide /usr/bin/gnome-www-browser (gnome-www-browser) in auto mode\n",
            "update-alternatives: using /usr/bin/google-chrome-stable to provide /usr/bin/google-chrome (google-chrome) in auto mode\n",
            "Processing triggers for man-db (2.10.2-1) ...\n",
            "Processing triggers for mailcap (3.70+nmu1ubuntu1) ...\n",
            "Processing triggers for libc-bin (2.35-0ubuntu3.8) ...\n",
            "/sbin/ldconfig.real: /usr/local/lib/libur_loader.so.0 is not a symbolic link\n",
            "\n",
            "/sbin/ldconfig.real: /usr/local/lib/libur_adapter_level_zero_v2.so.0 is not a symbolic link\n",
            "\n",
            "/sbin/ldconfig.real: /usr/local/lib/libtbbbind_2_5.so.3 is not a symbolic link\n",
            "\n",
            "/sbin/ldconfig.real: /usr/local/lib/libtcm.so.1 is not a symbolic link\n",
            "\n",
            "/sbin/ldconfig.real: /usr/local/lib/libtbbbind_2_0.so.3 is not a symbolic link\n",
            "\n",
            "/sbin/ldconfig.real: /usr/local/lib/libtbbmalloc_proxy.so.2 is not a symbolic link\n",
            "\n",
            "/sbin/ldconfig.real: /usr/local/lib/libumf.so.0 is not a symbolic link\n",
            "\n",
            "/sbin/ldconfig.real: /usr/local/lib/libhwloc.so.15 is not a symbolic link\n",
            "\n",
            "/sbin/ldconfig.real: /usr/local/lib/libur_adapter_level_zero.so.0 is not a symbolic link\n",
            "\n",
            "/sbin/ldconfig.real: /usr/local/lib/libtcm_debug.so.1 is not a symbolic link\n",
            "\n",
            "/sbin/ldconfig.real: /usr/local/lib/libur_adapter_opencl.so.0 is not a symbolic link\n",
            "\n",
            "/sbin/ldconfig.real: /usr/local/lib/libtbbmalloc.so.2 is not a symbolic link\n",
            "\n",
            "/sbin/ldconfig.real: /usr/local/lib/libtbbbind.so.3 is not a symbolic link\n",
            "\n",
            "/sbin/ldconfig.real: /usr/local/lib/libtbb.so.12 is not a symbolic link\n",
            "\n",
            "Collecting selenium\n",
            "  Downloading selenium-4.36.0-py3-none-any.whl.metadata (7.5 kB)\n",
            "Collecting webdriver_manager\n",
            "  Downloading webdriver_manager-4.0.2-py2.py3-none-any.whl.metadata (12 kB)\n",
            "Requirement already satisfied: urllib3<3.0,>=2.5.0 in /usr/local/lib/python3.12/dist-packages (from urllib3[socks]<3.0,>=2.5.0->selenium) (2.5.0)\n",
            "Collecting trio<1.0,>=0.30.0 (from selenium)\n",
            "  Downloading trio-0.31.0-py3-none-any.whl.metadata (8.5 kB)\n",
            "Collecting trio-websocket<1.0,>=0.12.2 (from selenium)\n",
            "  Downloading trio_websocket-0.12.2-py3-none-any.whl.metadata (5.1 kB)\n",
            "Requirement already satisfied: certifi>=2025.6.15 in /usr/local/lib/python3.12/dist-packages (from selenium) (2025.10.5)\n",
            "Requirement already satisfied: typing_extensions<5.0,>=4.14.0 in /usr/local/lib/python3.12/dist-packages (from selenium) (4.15.0)\n",
            "Requirement already satisfied: websocket-client<2.0,>=1.8.0 in /usr/local/lib/python3.12/dist-packages (from selenium) (1.9.0)\n",
            "Requirement already satisfied: requests in /usr/local/lib/python3.12/dist-packages (from webdriver_manager) (2.32.4)\n",
            "Requirement already satisfied: python-dotenv in /usr/local/lib/python3.12/dist-packages (from webdriver_manager) (1.1.1)\n",
            "Requirement already satisfied: packaging in /usr/local/lib/python3.12/dist-packages (from webdriver_manager) (25.0)\n",
            "Requirement already satisfied: attrs>=23.2.0 in /usr/local/lib/python3.12/dist-packages (from trio<1.0,>=0.30.0->selenium) (25.4.0)\n",
            "Requirement already satisfied: sortedcontainers in /usr/local/lib/python3.12/dist-packages (from trio<1.0,>=0.30.0->selenium) (2.4.0)\n",
            "Requirement already satisfied: idna in /usr/local/lib/python3.12/dist-packages (from trio<1.0,>=0.30.0->selenium) (3.10)\n",
            "Collecting outcome (from trio<1.0,>=0.30.0->selenium)\n",
            "  Downloading outcome-1.3.0.post0-py2.py3-none-any.whl.metadata (2.6 kB)\n",
            "Requirement already satisfied: sniffio>=1.3.0 in /usr/local/lib/python3.12/dist-packages (from trio<1.0,>=0.30.0->selenium) (1.3.1)\n",
            "Collecting wsproto>=0.14 (from trio-websocket<1.0,>=0.12.2->selenium)\n",
            "  Downloading wsproto-1.2.0-py3-none-any.whl.metadata (5.6 kB)\n",
            "Requirement already satisfied: pysocks!=1.5.7,<2.0,>=1.5.6 in /usr/local/lib/python3.12/dist-packages (from urllib3[socks]<3.0,>=2.5.0->selenium) (1.7.1)\n",
            "Requirement already satisfied: charset_normalizer<4,>=2 in /usr/local/lib/python3.12/dist-packages (from requests->webdriver_manager) (3.4.3)\n",
            "Requirement already satisfied: h11<1,>=0.9.0 in /usr/local/lib/python3.12/dist-packages (from wsproto>=0.14->trio-websocket<1.0,>=0.12.2->selenium) (0.16.0)\n",
            "Downloading selenium-4.36.0-py3-none-any.whl (9.6 MB)\n",
            "\u001b[2K   \u001b[90m━━━━━━━━━━━━━━━━━━━━━━━━━━━━━━━━━━━━━━━━\u001b[0m \u001b[32m9.6/9.6 MB\u001b[0m \u001b[31m51.0 MB/s\u001b[0m eta \u001b[36m0:00:00\u001b[0m\n",
            "\u001b[?25hDownloading webdriver_manager-4.0.2-py2.py3-none-any.whl (27 kB)\n",
            "Downloading trio-0.31.0-py3-none-any.whl (512 kB)\n",
            "\u001b[2K   \u001b[90m━━━━━━━━━━━━━━━━━━━━━━━━━━━━━━━━━━━━━━━━\u001b[0m \u001b[32m512.7/512.7 kB\u001b[0m \u001b[31m28.8 MB/s\u001b[0m eta \u001b[36m0:00:00\u001b[0m\n",
            "\u001b[?25hDownloading trio_websocket-0.12.2-py3-none-any.whl (21 kB)\n",
            "Downloading outcome-1.3.0.post0-py2.py3-none-any.whl (10 kB)\n",
            "Downloading wsproto-1.2.0-py3-none-any.whl (24 kB)\n",
            "Installing collected packages: wsproto, outcome, webdriver_manager, trio, trio-websocket, selenium\n",
            "Successfully installed outcome-1.3.0.post0 selenium-4.36.0 trio-0.31.0 trio-websocket-0.12.2 webdriver_manager-4.0.2 wsproto-1.2.0\n"
          ]
        }
      ]
    },
    {
      "cell_type": "code",
      "source": [
        "from selenium import webdriver\n",
        "from selenium.webdriver.chrome.service import Service as ChromeService\n",
        "from webdriver_manager.chrome import ChromeDriverManager\n",
        "from selenium.webdriver.common.by import By\n",
        "from lxml import html\n",
        "import time\n",
        "\n",
        "chrome_options = webdriver.ChromeOptions()\n",
        "chrome_options.add_argument('--headless')               # 브라우저 창 없이 실행\n",
        "chrome_options.add_argument('--no-sandbox')             # 보안모드 비활성화 (Colab 필수)\n",
        "chrome_options.add_argument('--disable-dev-shm-usage')  # 메모리 부족 방지 (Colab 필수)\n",
        "chrome_options.add_argument('--window-size=1920x1080')  # 창 크기 설정(가상)\n",
        "chrome_options.add_argument('--disable-gpu')            # GPU 가속 비활성화 (일부 환경 안정성)\n",
        "chrome_options.binary_location = \"/usr/bin/google-chrome-stable\"  # Colab용 크롬 경로 지정\n",
        "\n",
        "## 드라이버 실행\n",
        "driver = webdriver.Chrome(options=chrome_options)\n",
        "\n",
        "## 사이트 접속\n",
        "url = 'https://professor.knou.ac.kr/jaehwachung/index.do'\n",
        "driver.get(url)\n",
        "\n",
        "## 사이트 접속 대기\n",
        "time.sleep(1)\n",
        "\n",
        "## 페이지 제목 출력\n",
        "page_source = driver.page_source\n",
        "tree = html.fromstring(page_source)\n",
        "\n",
        "title_text = tree.xpath('//title/text()')\n",
        "print(title_text)\n",
        "\n",
        "## 드라이버 종료\n",
        "driver.quit()"
      ],
      "metadata": {
        "id": "cRC8x3_iW0im",
        "colab": {
          "base_uri": "https://localhost:8080/"
        },
        "outputId": "7741f28f-8474-41e3-e4d0-24fe29def105"
      },
      "execution_count": 14,
      "outputs": [
        {
          "output_type": "stream",
          "name": "stdout",
          "text": [
            "['\\n\\t\\tAlert \\n\\t\\t\\n\\t']\n"
          ]
        }
      ]
    },
    {
      "cell_type": "markdown",
      "source": [
        "\n",
        "# 실습 시나리오"
      ],
      "metadata": {
        "id": "Bu6OMZyGirOq"
      }
    },
    {
      "cell_type": "markdown",
      "source": [
        "## 공공데이터 포털 가입 및 데이터 신청\n",
        "\n",
        "- [https://www.data.go.kr](https://www.data.go.kr)\n",
        "- 한국환경공단 에어코리아 대기오염정보 데이터 신청"
      ],
      "metadata": {
        "id": "nsuqRN9RkZlW"
      }
    },
    {
      "cell_type": "code",
      "source": [
        "import requests\n",
        "\n",
        "## 데이터 수집 url 및 api key 설정\n",
        "\n",
        "\n",
        "params = {\n",
        "    'serviceKey': api_key,\n",
        "    'returnType': 'json',\n",
        "    'numOfRows': '100',\n",
        "    'pageNo': '1',\n",
        "    'sidoName': '서울',\n",
        "    'ver': '1.0'\n",
        "}\n",
        "\n",
        "## 데이터 수집\n",
        "\n",
        "## 호출 성공/실패 출력\n",
        "\n"
      ],
      "metadata": {
        "id": "7yCozmQeXJcO"
      },
      "execution_count": null,
      "outputs": []
    },
    {
      "cell_type": "markdown",
      "source": [
        "# 오픈소스기반 데이터 분석 과제"
      ],
      "metadata": {
        "id": "5FNCp2lew38t"
      }
    },
    {
      "cell_type": "code",
      "source": [
        "import requests\n",
        "url = 'http://openapi.seoul.go.kr:8088/56587456746b79793331794548766d/json/energyUseDataSummaryInfo/1/5/'\n",
        "\n",
        "def get_year_months():\n",
        "  year_months = []\n",
        "  for year in range(2015, 2024+1):\n",
        "    for month in range(1,12+1):\n",
        "      year_months.append(f'{year}{month:02d}')\n",
        "  return year_months\n",
        "\n",
        "responses = []\n",
        "\n",
        "for year_month in get_year_months():\n",
        " url_full = url + year_month[0:4]+\"/\"+year_month[4:]\n",
        " response = requests.get(url_full)\n",
        " if response.status_code == 200:\n",
        "  print(\"api 호출 성공\")\n",
        "  if year_month[4:] == \"12\":\n",
        "    print(response.json())\n",
        " else:\n",
        "  print(f\"API 호출 실패: {response.status_code}\")\n",
        " responses.append(response)"
      ],
      "metadata": {
        "colab": {
          "base_uri": "https://localhost:8080/",
          "height": 110
        },
        "id": "KtHIslYSw68V",
        "outputId": "f9e63aa4-227c-4698-ea7f-4a5e813e0aa7"
      },
      "execution_count": 63,
      "outputs": [
        {
          "output_type": "error",
          "ename": "SyntaxError",
          "evalue": "cannot assign to subscript here. Maybe you meant '==' instead of '='? (ipython-input-3811084580.py, line 18)",
          "traceback": [
            "\u001b[0;36m  File \u001b[0;32m\"/tmp/ipython-input-3811084580.py\"\u001b[0;36m, line \u001b[0;32m18\u001b[0m\n\u001b[0;31m    if year_month[4:] = \"12\":\u001b[0m\n\u001b[0m       ^\u001b[0m\n\u001b[0;31mSyntaxError\u001b[0m\u001b[0;31m:\u001b[0m cannot assign to subscript here. Maybe you meant '==' instead of '='?\n"
          ]
        }
      ]
    },
    {
      "cell_type": "code",
      "source": [
        "df_list = []\n",
        "\n",
        "for response in responses:\n",
        "    data = response.json()['energyUseDataSummaryInfo']['row']\n",
        "    df = pd.DataFrame(data)\n",
        "    df_list.append(df)\n",
        "\n",
        "df_all = pd.concat(df_list, ignore_index=True)\n",
        "print(df_all)"
      ],
      "metadata": {
        "id": "d2G0WjtWKiE3",
        "outputId": "f0767d85-d948-4c84-ea28-cf33cc488aa7",
        "colab": {
          "base_uri": "https://localhost:8080/"
        }
      },
      "execution_count": 62,
      "outputs": [
        {
          "output_type": "stream",
          "name": "stdout",
          "text": [
            "    YEAR MON  MM_TYPE     CNT        EUS       EUS1       EUS2       ECO2_1  \\\n",
            "0   2015  01       개인  767791  193784708  194781915  204969429     -6090964   \n",
            "1   2015  01       학교    1382  134955565  128707423  145561511     -2178902   \n",
            "2   2015  01     종교단체      32     372270     363376     411363     -15099.5   \n",
            "3   2015  01     소상공인    2058   10249618    9927610   11039593    -233983.5   \n",
            "4   2015  01  공동주택관리소    1747  327102096  329852334  351694752    -13671447   \n",
            "5   2015  02       개인  774620  189974230  193611430  200055533   -6859251.5   \n",
            "6   2015  02       기업   16966  523325778  542435234  567181200    -31482439   \n",
            "7   2015  02     소상공인    2153    9763412    9786829   10214569      -237287   \n",
            "8   2015  02     공공기관    2981  230038970  227707037  239494601     -3561849   \n",
            "9   2015  02     종교단체      32     336476     341646     366928       -17811   \n",
            "10  2015  03       학교    3903  145577747  140333207  148915260       673170   \n",
            "11  2015  03     공공기관    2048  208343249  206515245  211942654    -13629158   \n",
            "12  2015  03       기업    5334  454517085  463464106  477564250    -16954537   \n",
            "13  2015  03     소상공인   12277   46364443   46668562   48429447    -11152776   \n",
            "14  2015  03     종교단체     227    2819027    2752465    3096521      -732131   \n",
            "15  2015  04       학교    4021  134199179  130280899  148944597     -5413569   \n",
            "16  2015  04     소상공인   12488   44335889   44591444   46398712     -1159189   \n",
            "17  2015  04  공동주택관리소    1768  291394437  294559733  309664586  -10717722.5   \n",
            "18  2015  04       기업    5609  436129598  448413355  459364439    -17759299   \n",
            "19  2015  04     종교단체     249    2697190    3106519    3552647      -632393   \n",
            "20  2015  05       개인  810422  177289769  181972266  188230004     -7811366   \n",
            "21  2015  05     종교단체     260    2733596    3276493    3366363      -587832   \n",
            "22  2015  05     소상공인   12466   45864251   46065582   47630147    -983613.5   \n",
            "23  2015  05  공동주택관리소    1751  275543444  281778782  293631485  -12161689.5   \n",
            "24  2015  05     공공기관    2174  162360569  159264299  168985705     -1764433   \n",
            "25  2015  06       학교    4056  123484926  122180348  127693658     -1452077   \n",
            "26  2015  06       기업    5730  504111937  517758806  537789216    -23662074   \n",
            "27  2015  06       개인  813731  186073153  191414452  196523474     -7895810   \n",
            "28  2015  06     종교단체     265    3299833    3968118    3981973    -675212.5   \n",
            "29  2015  06  공동주택관리소    1750  284934190  291783835  302110357    -12012906   \n",
            "30  2015  07       기업    5809  556996768  583699601  595041013    -32373539   \n",
            "31  2015  07     공공기관    2083  177529278  180512544  179850749   -2652368.5   \n",
            "32  2015  07     종교단체     274    3938240    4747560    4652038      -761559   \n",
            "33  2015  07       학교    4008  115722596  120937114  119119922     -4305922   \n",
            "34  2015  07       개인  823337  165114568  171057688  176733530     -8781041   \n",
            "35  2015  08       개인  831008  242000479  225295114  251665825    3520009.5   \n",
            "36  2015  08       학교    4051  114182704  111674241  117842114    -575473.5   \n",
            "37  2015  08       기업    6002  580517158  574017315  618846947    -15914973   \n",
            "38  2015  08     소상공인   12907   58830816   56284602   60743235     316897.5   \n",
            "39  2015  08     공공기관    2090  194449748  187330536  192639612      4464674   \n",
            "40  2015  09       학교    4104  117000086  106788250  115993928      5608997   \n",
            "41  2015  09     소상공인   13215   49906893   48338643   50163341       655901   \n",
            "42  2015  09  공동주택관리소    1775  291193615  292423522  315758859  -12897575.5   \n",
            "43  2015  09       기업    6544  510981941  515975591  525800916   -9906312.5   \n",
            "44  2015  09     종교단체     287    4003389    4143180    4338032      -237217   \n",
            "45  2015  10       개인  838855  186473958  190857499  196312194   -7110888.5   \n",
            "46  2015  10       학교    4105   90894649   92776204   91074061   -1030483.5   \n",
            "47  2015  10  공동주택관리소    1781  263666396  269259556  276975017   -9450890.5   \n",
            "48  2015  10       기업    6557  429299432  440472251  451506225    -16689806   \n",
            "49  2015  10     종교단체     289    3049721    3299519    3391534    -295805.5   \n",
            "50  2015  11     공공기관    2116  147686501  146594161  151248155     -1234657   \n",
            "51  2015  11  공동주택관리소    1777  277331848  282749386  290178463   -9132076.5   \n",
            "52  2015  11     종교단체     288    2690264    3028485    3155146    -401551.5   \n",
            "53  2015  11       기업    6628  411307841  421176794  438285942    -18423527   \n",
            "54  2015  11       학교    4142   97207264   98187897  103104980   -3439174.5   \n",
            "55  2015  12       개인  852483  203388142  209110435  210601335     -6467743   \n",
            "56  2015  12       학교    4142  129747032  142880159  138232678  -10809386.5   \n",
            "57  2015  12  공동주택관리소    1799  292877773  304108364  307024310    -12688564   \n",
            "58  2015  12     공공기관    2097  148482042  157137259  155630485     -7901830   \n",
            "59  2015  12     소상공인   13502   45317360   47903086   47496110     -2382238   \n",
            "\n",
            "           ECO2_2       GUS  ...          WUS1          WUS2        WCO2_1  \\\n",
            "0    -2582568.736  59133720  ...  12723680.426   12899476.73      8179.308   \n",
            "1     -923854.448   9107197  ...     2097433.8     2133200.8      -39498.1   \n",
            "2       -6402.188     53331  ...          4548          4519        1411.5   \n",
            "3      -99209.004    536119  ...      146480.6      147325.6         369.9   \n",
            "4    -5796693.528  22834274  ...      12763070    12979835.8      -26645.4   \n",
            "5    -2908322.636  56487358  ...  12713146.172  12948410.081  -173889.9085   \n",
            "6   -13348554.136  32508993  ...     6853247.6     7071961.8     -102743.9   \n",
            "7     -100609.688    500186  ...      183563.4    194518.373    -2025.6865   \n",
            "8    -1510223.976  10730599  ...     1283504.4     1331699.8       90829.3   \n",
            "9       -7551.864     46069  ...          2093          2527          -291   \n",
            "10      285424.08   7601585  ...     2622179.4       2793577     -137612.4   \n",
            "11   -5778762.992   8141963  ...     1374222.8     1459810.8      -24767.6   \n",
            "12   -7188723.688  21689961  ...       3999579     4116372.4      -65730.7   \n",
            "13   -4728777.024   4535233  ...     1405384.8     1488573.8      -65722.7   \n",
            "14    -310423.544    303568  ...         26200         28432         -4181   \n",
            "15   -2295353.256   5544226  ...     3070009.2       3150480     -106328.8   \n",
            "16    -491496.136   3324279  ...     1568041.4       1587003      -42155.6   \n",
            "17    -4544314.34  14161336  ...    13333763.4    13350196.8       34563.6   \n",
            "18   -7529942.776  15169055  ...     4092409.6       4125632      -57078.2   \n",
            "19    -268134.632    244845  ...         28596         34681       -5202.5   \n",
            "20   -3312019.184  22060892  ...  13214349.918   13186433.49    -113657.49   \n",
            "21    -249240.768    119561  ...         26717         30786       -5240.5   \n",
            "22    -417052.124   2199716  ...     1444450.4    1412015.92     -24652.96   \n",
            "23   -5156556.348   6889504  ...    12912643.2    13047876.3     -76481.15   \n",
            "24    -748119.592  10355264  ...       1481502       1496279       34603.1   \n",
            "25    -615680.648   3244802  ...    3352073.02       3448123    -123530.81   \n",
            "26  -10032719.376  10171233  ...     4380714.8     4466132.4      -11808.2   \n",
            "27    -3347823.44  12677645  ...  14231573.864  14196573.165    27577.8875   \n",
            "28      -286290.1    109087  ...         31614         36397        2006.5   \n",
            "29   -5093472.144   3252225  ...    13398512.2   13550273.56    -124016.08   \n",
            "30  -13726380.536  12877575  ...     4458789.8       4462604      -27180.1   \n",
            "31   -1124604.244   2144272  ...     1476349.4     1481583.4       23750.6   \n",
            "32    -322901.016    160725  ...         28106         32088         -1100   \n",
            "33   -1825710.928   3616440  ...       2810214       2907085       -8914.1   \n",
            "34   -3723161.384   8893640  ...  12158770.739  12451976.253   -221494.458   \n",
            "35    1492484.028   7619018  ...  15186771.742  15162726.462     -10195.36   \n",
            "36    -244000.764   3666183  ...   2695799.734       2704021    -53611.367   \n",
            "37   -6747948.552  14998047  ...     5109772.2     5077946.4     -233568.1   \n",
            "38      134364.54   2859077  ...   1933054.818     1883652.4    -57741.809   \n",
            "39    1893021.776   3142344  ...     1407303.4       1373127       10755.2   \n",
            "40    2378214.728   3130770  ...       2289431     2367305.8      -42363.4   \n",
            "41     278102.024   1525269  ...       1517610   1531680.694    -27305.547   \n",
            "42   -5468572.012   1828671  ...    12587446.9    13062671.3     -163667.9   \n",
            "43     -4200276.5   9108483  ...   4950087.988       4994719     -6315.094   \n",
            "44    -100580.008    154103  ...         33102         32863         336.5   \n",
            "45   -3015016.724   8924018  ...  14806253.041  15009957.053   -196276.281   \n",
            "46    -436925.004   2198915  ...     2121219.6     2250504.8       11230.4   \n",
            "47   -4007177.572   2421770  ...    12982278.5      12979068    -143926.65   \n",
            "48   -7076477.744   6739926  ...     4750659.4     4835618.8       43939.9   \n",
            "49    -125421.532    121469  ...         31585         42832          67.5   \n",
            "50    -523494.568   2443388  ...     1392070.8     1357145.6       50073.8   \n",
            "51   -3872000.436   4777212  ...    12008225.4    12098728.8     -118113.6   \n",
            "52    -170257.836    123356  ...         32542         32570         -1694   \n",
            "53   -7811575.448  10579106  ...     4047989.6     4068778.2       29209.7   \n",
            "54   -1458209.988   3129231  ...     2407442.8     2499934.6       25617.7   \n",
            "55   -2742323.032  40095231  ...  13901292.844  13985482.345   -39224.6365   \n",
            "56   -4583179.876   7146196  ...     2288624.2     2348669.6      -75158.3   \n",
            "57   -5379951.136  11633072  ...    12787307.9    12872436.5      -89576.7   \n",
            "58    -3350375.92   4538066  ...       1137319     1131924.8       -2280.3   \n",
            "59   -1010068.912   3587588  ...     1274858.8     1275190.8     -16551.15   \n",
            "\n",
            "           WCO2_2           HUS          HUS1          HUS2        HCO2_1  \\\n",
            "0     2715.530256  22740838.937  23400055.303  27090493.875  -2504435.652   \n",
            "1     -13113.3692             0             0             0             0   \n",
            "2         468.618             0             0             0             0   \n",
            "3        122.8068             0             0             0             0   \n",
            "4      -8846.2728             0             0             0             0   \n",
            "5   -57731.449622  18793320.213  19032221.757  21414367.325  -1429974.328   \n",
            "6     -34110.9748             0             0             0             0   \n",
            "7     -672.527918             0             0             0             0   \n",
            "8      30155.3276             0             0             0             0   \n",
            "9         -96.612             0             0             0             0   \n",
            "10    -45687.3168            48            34            41          10.5   \n",
            "11     -8222.8432             0             0             0             0   \n",
            "12    -21822.5924             0             0             0             0   \n",
            "13    -21819.9364             0             0             0             0   \n",
            "14      -1388.092             0             0             0             0   \n",
            "15    -35301.1616             9             8            16            -3   \n",
            "16    -13995.6592             0             0             0             0   \n",
            "17     11475.1152             0             0             0             0   \n",
            "18    -18949.9624             0             0             0             0   \n",
            "19       -1727.23             0             0             0             0   \n",
            "20   -37734.28668   1320895.801   1558697.648   1709192.194    -313049.12   \n",
            "21      -1739.846             0             0             0             0   \n",
            "22    -8184.78272             0             0             0             0   \n",
            "23    -25391.7418             0             0             0             0   \n",
            "24     11488.2292             0             0             0             0   \n",
            "25   -41012.22892             0             0             0             0   \n",
            "26     -3920.3224             0             0             0             0   \n",
            "27     9155.85865    294312.634    301215.894    295514.063    -4052.3445   \n",
            "28        666.158             0             0             0             0   \n",
            "29   -41173.33856             0             0             0             0   \n",
            "30     -9023.7932             0             0             0             0   \n",
            "31      7885.1992             0             0             0             0   \n",
            "32         -365.2             0             0             0             0   \n",
            "33     -2959.4812             0             0             0             0   \n",
            "34  -73536.160056    702863.645    227748.982    218148.985   479914.6615   \n",
            "35    -3384.85952    460288.965    446810.165    439663.894    17051.9355   \n",
            "36  -17798.973844             0             0             0             0   \n",
            "37    -77544.6092             0             0             0             0   \n",
            "38  -19170.280588             0             0             0             0   \n",
            "39      3570.7264             0             0             0             0   \n",
            "40    -14064.6488             0             0             0             0   \n",
            "41   -9065.441604             0             0             0             0   \n",
            "42    -54337.7428             0             0             0             0   \n",
            "43   -2096.611208             0             0             0             0   \n",
            "44        111.718             0             0             0             0   \n",
            "45  -65163.725292   3167520.127   3791530.042   3875736.209  -666112.9985   \n",
            "46      3728.4928           123           272           272          -149   \n",
            "47    -47783.6478             0             0             0             0   \n",
            "48     14588.0468             0             0             0             0   \n",
            "49          22.41             0             0             0             0   \n",
            "50     16624.5016             0             0             0             0   \n",
            "51    -39213.7152             0             0             0             0   \n",
            "52       -562.408             0             0             0             0   \n",
            "53      9697.6204             0             0             0             0   \n",
            "54      8505.0764           825           935           871           -78   \n",
            "55  -13022.579318  21102616.717  26420971.573  24676994.275  -4446366.207   \n",
            "56    -24952.5556          1431          1946          1858          -471   \n",
            "57    -29739.4644             0             0             0             0   \n",
            "58      -757.0596             0             0             0             0   \n",
            "59     -5494.9818             0             0             0             0   \n",
            "\n",
            "              HCO2_2               REG_DATE  \n",
            "0   -33660084.213069  2015-06-04 17:03:55.0  \n",
            "1                  0  2015-06-04 17:03:55.0  \n",
            "2                  0  2015-06-04 17:03:55.0  \n",
            "3                  0  2015-06-04 17:03:55.0  \n",
            "4                  0  2015-06-04 17:03:55.0  \n",
            "5    -17311712.76832  2015-06-04 16:59:30.0  \n",
            "6                  0  2015-06-04 16:59:30.0  \n",
            "7                  0  2015-06-04 16:59:30.0  \n",
            "8                  0  2015-06-04 16:59:30.0  \n",
            "9                  0  2015-06-04 16:59:30.0  \n",
            "10            41.811  2015-06-12 04:00:01.0  \n",
            "11                 0  2015-06-12 04:00:01.0  \n",
            "12                 0  2015-06-12 04:00:01.0  \n",
            "13                 0  2015-06-12 04:00:01.0  \n",
            "14                 0  2015-06-12 04:00:01.0  \n",
            "15           -11.946  2015-07-05 04:00:00.0  \n",
            "16                 0  2015-07-05 04:00:00.0  \n",
            "17                 0  2015-07-05 04:00:00.0  \n",
            "18                 0  2015-07-05 04:00:00.0  \n",
            "19                 0  2015-07-05 04:00:00.0  \n",
            "20   -5190153.166471  2015-08-05 04:00:01.0  \n",
            "21                 0  2015-08-05 04:00:01.0  \n",
            "22                 0  2015-08-05 04:00:01.0  \n",
            "23                 0  2015-08-05 04:00:01.0  \n",
            "24                 0  2015-08-05 04:00:01.0  \n",
            "25                 0  2015-09-05 04:00:01.0  \n",
            "26                 0  2015-09-05 04:00:01.0  \n",
            "27     -90158.752204  2015-09-05 04:00:01.0  \n",
            "28                 0  2015-09-05 04:00:01.0  \n",
            "29                 0  2015-09-05 04:00:01.0  \n",
            "30                 0  2015-10-05 04:00:00.0  \n",
            "31                 0  2015-10-05 04:00:00.0  \n",
            "32                 0  2015-10-05 04:00:00.0  \n",
            "33                 0  2015-10-05 04:00:00.0  \n",
            "34     -29858.537272  2015-10-05 04:00:00.0  \n",
            "35     -57105.653404  2015-11-05 04:00:00.0  \n",
            "36                 0  2015-11-05 04:00:00.0  \n",
            "37                 0  2015-11-05 04:00:00.0  \n",
            "38                 0  2015-11-05 04:00:00.0  \n",
            "39                 0  2015-11-05 04:00:00.0  \n",
            "40                 0  2015-12-05 04:00:01.0  \n",
            "41                 0  2015-12-05 04:00:01.0  \n",
            "42                 0  2015-12-05 04:00:01.0  \n",
            "43                 0  2015-12-05 04:00:01.0  \n",
            "44                 0  2015-12-05 04:00:01.0  \n",
            "45  -13312269.687023  2016-01-08 12:42:17.0  \n",
            "46          -593.318  2016-01-08 12:42:17.0  \n",
            "47                 0  2016-01-08 12:42:17.0  \n",
            "48                 0  2016-01-08 12:42:17.0  \n",
            "49                 0  2016-01-08 12:42:17.0  \n",
            "50                 0  2016-02-11 16:49:58.0  \n",
            "51                 0  2016-02-11 16:49:58.0  \n",
            "52                 0  2016-02-11 16:49:58.0  \n",
            "53                 0  2016-02-11 16:49:58.0  \n",
            "54          -310.596  2016-02-11 16:49:58.0  \n",
            "55  -59658969.202058  2016-03-05 04:00:01.0  \n",
            "56         -1875.522  2016-03-05 04:00:01.0  \n",
            "57                 0  2016-03-05 04:00:01.0  \n",
            "58                 0  2016-03-05 04:00:01.0  \n",
            "59                 0  2016-03-05 04:00:01.0  \n",
            "\n",
            "[60 rows x 25 columns]\n"
          ]
        }
      ]
    },
    {
      "cell_type": "code",
      "source": [
        "import pandas as pd\n",
        "\n",
        "data = responses.json()['energyUseDataSummaryInfo']['row']\n",
        "df = pd.DataFrame(data)\n",
        "print(df)"
      ],
      "metadata": {
        "colab": {
          "base_uri": "https://localhost:8080/",
          "height": 221
        },
        "id": "ZFa3Eolo4B_Z",
        "outputId": "cdade07b-0b92-4463-fe7b-419b4d5c6a57"
      },
      "execution_count": 60,
      "outputs": [
        {
          "output_type": "error",
          "ename": "AttributeError",
          "evalue": "'list' object has no attribute 'json'",
          "traceback": [
            "\u001b[0;31m---------------------------------------------------------------------------\u001b[0m",
            "\u001b[0;31mAttributeError\u001b[0m                            Traceback (most recent call last)",
            "\u001b[0;32m/tmp/ipython-input-774058025.py\u001b[0m in \u001b[0;36m<cell line: 0>\u001b[0;34m()\u001b[0m\n\u001b[1;32m      1\u001b[0m \u001b[0;32mimport\u001b[0m \u001b[0mpandas\u001b[0m \u001b[0;32mas\u001b[0m \u001b[0mpd\u001b[0m\u001b[0;34m\u001b[0m\u001b[0;34m\u001b[0m\u001b[0m\n\u001b[1;32m      2\u001b[0m \u001b[0;34m\u001b[0m\u001b[0m\n\u001b[0;32m----> 3\u001b[0;31m \u001b[0mdata\u001b[0m \u001b[0;34m=\u001b[0m \u001b[0mresponses\u001b[0m\u001b[0;34m.\u001b[0m\u001b[0mjson\u001b[0m\u001b[0;34m(\u001b[0m\u001b[0;34m)\u001b[0m\u001b[0;34m[\u001b[0m\u001b[0;34m'energyUseDataSummaryInfo'\u001b[0m\u001b[0;34m]\u001b[0m\u001b[0;34m[\u001b[0m\u001b[0;34m'row'\u001b[0m\u001b[0;34m]\u001b[0m\u001b[0;34m\u001b[0m\u001b[0;34m\u001b[0m\u001b[0m\n\u001b[0m\u001b[1;32m      4\u001b[0m \u001b[0mdf\u001b[0m \u001b[0;34m=\u001b[0m \u001b[0mpd\u001b[0m\u001b[0;34m.\u001b[0m\u001b[0mDataFrame\u001b[0m\u001b[0;34m(\u001b[0m\u001b[0mdata\u001b[0m\u001b[0;34m)\u001b[0m\u001b[0;34m\u001b[0m\u001b[0;34m\u001b[0m\u001b[0m\n\u001b[1;32m      5\u001b[0m \u001b[0mprint\u001b[0m\u001b[0;34m(\u001b[0m\u001b[0mdf\u001b[0m\u001b[0;34m)\u001b[0m\u001b[0;34m\u001b[0m\u001b[0;34m\u001b[0m\u001b[0m\n",
            "\u001b[0;31mAttributeError\u001b[0m: 'list' object has no attribute 'json'"
          ]
        }
      ]
    },
    {
      "cell_type": "code",
      "source": [
        "def get_year_months():\n",
        "  year_months = []\n",
        "  for year in range(2015, 2024+1):\n",
        "    for month in range(1,12+1):\n",
        "      year_months.append(f'{year}{month:02d}')\n",
        "  return year_months\n",
        "\n",
        "x = get_year_months()\n",
        "print(x)"
      ],
      "metadata": {
        "colab": {
          "base_uri": "https://localhost:8080/"
        },
        "id": "42l5A3_F6jSM",
        "outputId": "1d0ea97a-74ac-4c1b-fc71-29471511534a"
      },
      "execution_count": 33,
      "outputs": [
        {
          "output_type": "stream",
          "name": "stdout",
          "text": [
            "['201501', '201502', '201503', '201504', '201505', '201506', '201507', '201508', '201509', '201510', '201511', '201512', '201601', '201602', '201603', '201604', '201605', '201606', '201607', '201608', '201609', '201610', '201611', '201612', '201701', '201702', '201703', '201704', '201705', '201706', '201707', '201708', '201709', '201710', '201711', '201712', '201801', '201802', '201803', '201804', '201805', '201806', '201807', '201808', '201809', '201810', '201811', '201812', '201901', '201902', '201903', '201904', '201905', '201906', '201907', '201908', '201909', '201910', '201911', '201912', '202001', '202002', '202003', '202004', '202005', '202006', '202007', '202008', '202009', '202010', '202011', '202012', '202101', '202102', '202103', '202104', '202105', '202106', '202107', '202108', '202109', '202110', '202111', '202112', '202201', '202202', '202203', '202204', '202205', '202206', '202207', '202208', '202209', '202210', '202211', '202212', '202301', '202302', '202303', '202304', '202305', '202306', '202307', '202308', '202309', '202310', '202311', '202312', '202401', '202402', '202403', '202404', '202405', '202406', '202407', '202408', '202409', '202410', '202411', '202412']\n"
          ]
        }
      ]
    },
    {
      "cell_type": "code",
      "source": [
        "YYYYMM = '201502'\n",
        "date = YYYYMM[0:4]+\"/\"+YYYYMM[4:]\n",
        "\n",
        "\n",
        "url_pre = 'http://openapi.seoul.go.kr:8088/56587456746b79793331794548766d/json/energyUseDataSummaryInfo/1/5/'\n",
        "url_full = url_pre + date\n",
        "print(url_full)"
      ],
      "metadata": {
        "colab": {
          "base_uri": "https://localhost:8080/"
        },
        "id": "6TaHB-U2-bNY",
        "outputId": "a69ce165-b8f0-4096-be3f-3b78cf5eb825"
      },
      "execution_count": 48,
      "outputs": [
        {
          "output_type": "stream",
          "name": "stdout",
          "text": [
            "http://openapi.seoul.go.kr:8088/56587456746b79793331794548766d/json/energyUseDataSummaryInfo/1/5/2015/02\n"
          ]
        }
      ]
    },
    {
      "cell_type": "code",
      "source": [
        "\n"
      ],
      "metadata": {
        "id": "bvTQpTpGC_Ii"
      },
      "execution_count": null,
      "outputs": []
    }
  ]
}